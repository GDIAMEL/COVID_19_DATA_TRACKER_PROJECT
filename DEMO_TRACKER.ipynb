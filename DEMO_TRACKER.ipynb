{
  "nbformat": 4,
  "nbformat_minor": 0,
  "metadata": {
    "colab": {
      "provenance": [],
      "authorship_tag": "ABX9TyNhvn0UEQbWyDe2RcNr8O5T",
      "include_colab_link": true
    },
    "kernelspec": {
      "name": "python3",
      "display_name": "Python 3"
    },
    "language_info": {
      "name": "python"
    }
  },
  "cells": [
    {
      "cell_type": "markdown",
      "metadata": {
        "id": "view-in-github",
        "colab_type": "text"
      },
      "source": [
        "<a href=\"https://colab.research.google.com/github/GDIAMEL/COVID_19_DATA_TRACKER_PROJECT/blob/main/DEMO_TRACKER.ipynb\" target=\"_parent\"><img src=\"https://colab.research.google.com/assets/colab-badge.svg\" alt=\"Open In Colab\"/></a>"
      ]
    },
    {
      "cell_type": "code",
      "execution_count": 1,
      "metadata": {
        "colab": {
          "base_uri": "https://localhost:8080/",
          "height": 383
        },
        "id": "GI234w2oOibb",
        "outputId": "cb2fd103-06fd-4de0-dafe-051b580c31b8"
      },
      "outputs": [
        {
          "output_type": "error",
          "ename": "ModuleNotFoundError",
          "evalue": "No module named 'covid_tracker'",
          "traceback": [
            "\u001b[0;31m---------------------------------------------------------------------------\u001b[0m",
            "\u001b[0;31mModuleNotFoundError\u001b[0m                       Traceback (most recent call last)",
            "\u001b[0;32m<ipython-input-1-5127daae8b15>\u001b[0m in \u001b[0;36m<cell line: 0>\u001b[0;34m()\u001b[0m\n\u001b[1;32m      6\u001b[0m \"\"\"\n\u001b[1;32m      7\u001b[0m \u001b[0;34m\u001b[0m\u001b[0m\n\u001b[0;32m----> 8\u001b[0;31m \u001b[0;32mfrom\u001b[0m \u001b[0mcovid_tracker\u001b[0m \u001b[0;32mimport\u001b[0m \u001b[0mCovidDataTracker\u001b[0m\u001b[0;34m\u001b[0m\u001b[0;34m\u001b[0m\u001b[0m\n\u001b[0m\u001b[1;32m      9\u001b[0m \u001b[0;32mimport\u001b[0m \u001b[0mos\u001b[0m\u001b[0;34m\u001b[0m\u001b[0;34m\u001b[0m\u001b[0m\n\u001b[1;32m     10\u001b[0m \u001b[0;32mimport\u001b[0m \u001b[0mmatplotlib\u001b[0m\u001b[0;34m.\u001b[0m\u001b[0mpyplot\u001b[0m \u001b[0;32mas\u001b[0m \u001b[0mplt\u001b[0m\u001b[0;34m\u001b[0m\u001b[0;34m\u001b[0m\u001b[0m\n",
            "\u001b[0;31mModuleNotFoundError\u001b[0m: No module named 'covid_tracker'",
            "",
            "\u001b[0;31m---------------------------------------------------------------------------\u001b[0;32m\nNOTE: If your import is failing due to a missing package, you can\nmanually install dependencies using either !pip or !apt.\n\nTo view examples of installing some common dependencies, click the\n\"Open Examples\" button below.\n\u001b[0;31m---------------------------------------------------------------------------\u001b[0m\n"
          ],
          "errorDetails": {
            "actions": [
              {
                "action": "open_url",
                "actionText": "Open Examples",
                "url": "/notebooks/snippets/importing_libraries.ipynb"
              }
            ]
          }
        }
      ],
      "source": [
        "\"\"\"\n",
        "COVID-19 Global Data Tracker Demo Script\n",
        "\n",
        "This script demonstrates how to use the CovidDataTracker class\n",
        "to analyze COVID-19 data and visualize various aspects of the pandemic.\n",
        "\"\"\"\n",
        "\n",
        "from covid_tracker import CovidDataTracker\n",
        "import os\n",
        "import matplotlib.pyplot as plt\n",
        "\n",
        "def main():\n",
        "    print(\"=\" * 50)\n",
        "    print(\"COVID-19 Global Data Tracker Demo\")\n",
        "    print(\"=\" * 50)\n",
        "\n",
        "    # Create an instance of the tracker\n",
        "    tracker = CovidDataTracker()\n",
        "\n",
        "    # Load data\n",
        "    print(\"\\nStep 1: Loading COVID-19 data...\")\n",
        "    if not tracker.load_data():\n",
        "        print(\"Failed to load data. Exiting.\")\n",
        "        return\n",
        "\n",
        "    # Process global data\n",
        "    print(\"\\nStep 2: Processing global data...\")\n",
        "    if not tracker.process_global_data():\n",
        "        print(\"Failed to process global data. Exiting.\")\n",
        "        return\n",
        "\n",
        "    # Process country data\n",
        "    print(\"\\nStep 3: Processing country-level data...\")\n",
        "    if not tracker.process_country_data():\n",
        "        print(\"Failed to process country data. Exiting.\")\n",
        "        return\n",
        "\n",
        "    # Create output directory for visualizations\n",
        "    output_dir = \"covid_analysis_results\"\n",
        "    os.makedirs(output_dir, exist_ok=True)\n",
        "\n",
        "    # Visualize global trends\n",
        "    print(\"\\nStep 4: Visualizing global trends...\")\n",
        "    tracker.plot_global_trend(save_path=f\"{output_dir}/global_trend.png\")\n",
        "\n",
        "    # Visualize top countries by confirmed cases\n",
        "    print(\"\\nStep 5: Visualizing top countries by confirmed cases...\")\n",
        "    tracker.plot_top_countries(metric='Confirmed', top_n=10, save_path=f\"{output_dir}/top_countries_confirmed.png\")\n",
        "\n",
        "    # Visualize top countries by deaths\n",
        "    print(\"\\nStep 6: Visualizing top countries by deaths...\")\n",
        "    tracker.plot_top_countries(metric='Deaths', top_n=10, save_path=f\"{output_dir}/top_countries_deaths.png\")\n",
        "\n",
        "    # Visualize mortality and recovery rates\n",
        "    print(\"\\nStep 7: Visualizing mortality and recovery rates...\")\n",
        "    tracker.plot_mortality_recovery_rates(top_n=10, save_path=f\"{output_dir}/mortality_recovery_rates.png\")\n",
        "\n",
        "    # Visualize daily changes\n",
        "    print(\"\\nStep 8: Visualizing daily changes in global cases...\")\n",
        "    tracker.plot_daily_changes(save_path=f\"{output_dir}/daily_changes.png\")\n",
        "\n",
        "    # Export summary report\n",
        "    print(\"\\nStep 9: Exporting summary report...\")\n",
        "    tracker.export_summary_report(f\"{output_dir}/covid19_summary_report.csv\")\n",
        "\n",
        "    # Calculate statistics\n",
        "    print(\"\\nStep 10: Calculating global statistics...\")\n",
        "    stats = tracker.calculate_statistics()\n",
        "\n",
        "    if stats:\n",
        "        print(\"\\nCOVID-19 Global Statistics Summary:\")\n",
        "        print(f\"Total Confirmed Cases: {stats['total_cases']:,}\")\n",
        "        print(f\"Total Deaths: {stats['total_deaths']:,}\")\n",
        "        print(f\"Total Recovered: {stats['total_recovered']:,}\")\n",
        "        print(f\"Active Cases: {stats['active_cases']:,}\")\n",
        "        print(f\"Global Mortality Rate: {stats['global_mortality_rate']}%\")\n",
        "        print(f\"Global Recovery Rate: {stats['global_recovery_rate']}%\")\n",
        "        print(f\"Most Affected Country: {stats['most_affected_country']} ({stats['highest_cases_country']:,} cases)\")\n",
        "        print(f\"Country with Highest Mortality Rate: {stats['highest_mortality_country']} ({stats['highest_mortality_rate']}%)\")\n",
        "\n",
        "    print(f\"\\nAnalysis complete! All results saved to the '{output_dir}' directory.\")\n",
        "    print(\"\\nYou can now explore the visualization files and the CSV report.\")\n",
        "\n",
        "if __name__ == \"__main__\":\n",
        "    main()"
      ]
    }
  ]
}